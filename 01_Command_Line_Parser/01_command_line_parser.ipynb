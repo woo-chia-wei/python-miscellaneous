{
 "cells": [
  {
   "cell_type": "markdown",
   "metadata": {},
   "source": [
    "## Python code"
   ]
  },
  {
   "cell_type": "code",
   "execution_count": 31,
   "metadata": {},
   "outputs": [
    {
     "name": "stdout",
     "output_type": "stream",
     "text": [
      "import argparse\n",
      "\n",
      "parser = argparse.ArgumentParser()\n",
      "\n",
      "parser.add_argument('--dir', type = str, default = 'pet_images/', \n",
      "                    help = 'Path to the pet image files') \n",
      "\n",
      "parser.add_argument('--arch', type = str, default = 'vgg', \n",
      "                    help = 'CNN model architecture to use for image classification')\n",
      "\n",
      "parser.add_argument('--dogfile', type = str, default = 'dognames.txt', \n",
      "                    help = 'Text file that contains all labels associated to dogs')\n",
      "\n",
      "in_args = parser.parse_args()\n",
      "\n",
      "print(\" Argument 1:\", in_args.dir, \"\\n\", \"      Argument 2:\", in_args.arch,  \"\\n\", \"    Argument 3:\", in_args.dogfile)\n"
     ]
    }
   ],
   "source": [
    "!more 01_command_line_parser.py"
   ]
  },
  {
   "cell_type": "markdown",
   "metadata": {},
   "source": [
    "## Check help menu"
   ]
  },
  {
   "cell_type": "code",
   "execution_count": 32,
   "metadata": {},
   "outputs": [
    {
     "name": "stdout",
     "output_type": "stream",
     "text": [
      "usage: 01_command_line_parser.py [-h] [--dir DIR] [--arch ARCH]\n",
      "                                 [--dogfile DOGFILE]\n",
      "\n",
      "optional arguments:\n",
      "  -h, --help         show this help message and exit\n",
      "  --dir DIR          Path to the pet image files\n",
      "  --arch ARCH        CNN model architecture to use for image classification\n",
      "  --dogfile DOGFILE  Text file that contains all labels associated to dogs\n"
     ]
    }
   ],
   "source": [
    "!python 01_command_line_parser.py -h"
   ]
  },
  {
   "cell_type": "markdown",
   "metadata": {},
   "source": [
    "## Launch without arguments"
   ]
  },
  {
   "cell_type": "code",
   "execution_count": 33,
   "metadata": {},
   "outputs": [
    {
     "name": "stdout",
     "output_type": "stream",
     "text": [
      "\tArgument 1: pet_images/ \n",
      " \tArgument 2: vgg \n",
      " \tArgument 3: dognames.txt\n"
     ]
    }
   ],
   "source": [
    "!python 01_command_line_parser.py"
   ]
  },
  {
   "cell_type": "markdown",
   "metadata": {},
   "source": [
    "## Launch with arguments"
   ]
  },
  {
   "cell_type": "code",
   "execution_count": 34,
   "metadata": {},
   "outputs": [
    {
     "name": "stdout",
     "output_type": "stream",
     "text": [
      "\tArgument 1: pet_images/ \n",
      " \tArgument 2: resnet \n",
      " \tArgument 3: dognames.txt\n"
     ]
    }
   ],
   "source": [
    "!python 01_command_line_parser.py --arch resnet"
   ]
  }
 ],
 "metadata": {
  "kernelspec": {
   "display_name": "Python 3",
   "language": "python",
   "name": "python3"
  },
  "language_info": {
   "codemirror_mode": {
    "name": "ipython",
    "version": 3
   },
   "file_extension": ".py",
   "mimetype": "text/x-python",
   "name": "python",
   "nbconvert_exporter": "python",
   "pygments_lexer": "ipython3",
   "version": "3.6.4"
  }
 },
 "nbformat": 4,
 "nbformat_minor": 2
}
