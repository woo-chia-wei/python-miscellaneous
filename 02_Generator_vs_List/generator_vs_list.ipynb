{
 "cells": [
  {
   "cell_type": "code",
   "execution_count": 1,
   "metadata": {},
   "outputs": [
    {
     "name": "stdout",
     "output_type": "stream",
     "text": [
      "import time\n",
      "import datetime\n",
      "from random import randint\n",
      "\n",
      "randint(100, 999)\n",
      "numbers = [randint(10 ** 10, 10 ** 11 - 1) for i in range(10)]\n",
      "\n",
      "def huge_computation(x):\n",
      "    time.sleep(1)\n",
      "    return x\n",
      "\n",
      "def trace(msg):\n",
      "    print(datetime.datetime.now(), msg)\n",
      "\n",
      "# Without generator, use list instead\n",
      "trace('Start with list')\n",
      "for x in [huge_computation(n) for n in numbers]:\n",
      "    trace(x)\n",
      "trace('End with list')\n",
      "\n",
      "# Use generator\n",
      "trace('Start with generator')\n",
      "for x in (huge_computation(n) for n in numbers):\n",
      "    trace(x)\n",
      "trace('End with generator')\n"
     ]
    }
   ],
   "source": [
    "!more generator_vs_list.py"
   ]
  },
  {
   "cell_type": "markdown",
   "metadata": {},
   "source": [
    "### Explaination\n",
    "\n",
    "Below result shows that **generator approach** is actually doing lazy loading, which only execute to retrieve next element when required which performance is guaranteed in this case. In contrary, **list approach** will calculate all elements even you just need to load first few elements which is highly inefficient."
   ]
  },
  {
   "cell_type": "code",
   "execution_count": 2,
   "metadata": {},
   "outputs": [
    {
     "name": "stdout",
     "output_type": "stream",
     "text": [
      "2018-06-12 15:33:49.001936 Start with list\n",
      "2018-06-12 15:33:59.001936 47899764121\n",
      "2018-06-12 15:33:59.001936 70470980537\n",
      "2018-06-12 15:33:59.001936 66464154176\n",
      "2018-06-12 15:33:59.001936 81877328629\n",
      "2018-06-12 15:33:59.001936 10867986335\n",
      "2018-06-12 15:33:59.001936 58711990437\n",
      "2018-06-12 15:33:59.001936 83065413901\n",
      "2018-06-12 15:33:59.001936 60015141185\n",
      "2018-06-12 15:33:59.001936 90315695927\n",
      "2018-06-12 15:33:59.001936 19691809983\n",
      "2018-06-12 15:33:59.001936 End with list\n",
      "2018-06-12 15:33:59.001936 Start with generator\n",
      "2018-06-12 15:34:00.001936 47899764121\n",
      "2018-06-12 15:34:01.001936 70470980537\n",
      "2018-06-12 15:34:02.001936 66464154176\n",
      "2018-06-12 15:34:03.001936 81877328629\n",
      "2018-06-12 15:34:04.001936 10867986335\n",
      "2018-06-12 15:34:05.001936 58711990437\n",
      "2018-06-12 15:34:06.001936 83065413901\n",
      "2018-06-12 15:34:07.001936 60015141185\n",
      "2018-06-12 15:34:08.001936 90315695927\n",
      "2018-06-12 15:34:09.001936 19691809983\n",
      "2018-06-12 15:34:09.001936 End with generator\n"
     ]
    }
   ],
   "source": [
    "!python generator_vs_list.py"
   ]
  },
  {
   "cell_type": "code",
   "execution_count": null,
   "metadata": {
    "collapsed": true
   },
   "outputs": [],
   "source": []
  }
 ],
 "metadata": {
  "kernelspec": {
   "display_name": "Python 3",
   "language": "python",
   "name": "python3"
  },
  "language_info": {
   "codemirror_mode": {
    "name": "ipython",
    "version": 3
   },
   "file_extension": ".py",
   "mimetype": "text/x-python",
   "name": "python",
   "nbconvert_exporter": "python",
   "pygments_lexer": "ipython3",
   "version": "3.6.1"
  }
 },
 "nbformat": 4,
 "nbformat_minor": 2
}
